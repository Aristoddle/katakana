{
 "cells": [
  {
   "cell_type": "code",
   "execution_count": 21,
   "metadata": {},
   "outputs": [],
   "source": [
    "from __future__ import print_function\n",
    "\n",
    "import sys\n",
    "import os\n",
    "import pandas as pd\n",
    "import numpy as np\n",
    "\n",
    "from keras.layers import Input, Embedding, LSTM, TimeDistributed, Dense\n",
    "from keras.models import Model, load_model\n",
    "\n",
    "# To import 'katakana' from relative path\n",
    "sys.path.append(os.path.abspath(os.path.join('..')))\n",
    "from katakana import encoding\n",
    "\n",
    "INPUT_LENGTH = 20\n",
    "OUTPUT_LENGTH = 20\n"
   ]
  },
  {
   "cell_type": "markdown",
   "metadata": {},
   "source": [
    "# Data pre-processing"
   ]
  },
  {
   "cell_type": "code",
   "execution_count": 22,
   "metadata": {},
   "outputs": [
    {
     "name": "stdout",
     "output_type": "stream",
     "text": [
      "dorogobuzh ドロゴブージ\n",
      "brian cowen ブライアン・カウエン\n",
      "training size 64356\n",
      "validation size 10726\n"
     ]
    }
   ],
   "source": [
    "data = pd.read_csv('../data/joined_titles.csv', header=None)\n",
    "data = data.sample(frac=1, random_state=0)\n",
    "\n",
    "data_input = [s.decode('utf-8').lower() for s in data[0]]\n",
    "data_output = [s.decode('utf-8') for s in data[1]]\n",
    "print(data_input[0], data_output[0])\n",
    "print(data_input[5], data_output[5])\n",
    "\n",
    "data_size = len(data)\n",
    "\n",
    "# We will use the first 0-60th %-tile (60%) of data for the training\n",
    "training_input  = data_input[data_size*0/100:data_size*60/100]\n",
    "training_output = data_output[data_size*0/100:data_size*60/100]\n",
    "\n",
    "# We will use the first 60-70th %-tile (10%) of data for the training\n",
    "validation_input = data_input[data_size*60/100:data_size*70/100]\n",
    "validation_output = data_output[data_size*60/100:data_size*70/100]\n",
    "\n",
    "print('training size', len(training_input))\n",
    "print('validation size', len(validation_input))"
   ]
  },
  {
   "cell_type": "markdown",
   "metadata": {},
   "source": [
    "### Transform data into Numpy arrays\n",
    "\n",
    "We transform the sequences of characters into sequences of integer IDs. This will be done by using pre-written functions in `encoding` module. \n",
    "- First, `encoding.build_characters_encoding` will build encoding/decoding dictionary from the data. \n",
    "- Then, `encoding.transform` will transform the data into numpy array.\n",
    "\n",
    "Check [the previous notebook](./Writing Katakana using Sequence-to-Sequence in Keras) for the details about the transformation."
   ]
  },
  {
   "cell_type": "code",
   "execution_count": 23,
   "metadata": {},
   "outputs": [
    {
     "name": "stdout",
     "output_type": "stream",
     "text": [
      "English character dict size: 54\n",
      "Katakana character dict size: 89\n",
      "encoded_training_input (64356, 20)\n",
      "encoded_training_output (64356, 20)\n",
      "encoded_validation_input (10726, 20)\n",
      "encoded_validation_output (10726, 20)\n"
     ]
    }
   ],
   "source": [
    "input_encoding, input_decoding, input_dict_size = encoding.build_characters_encoding(data_input)\n",
    "output_encoding, output_decoding, output_dict_size = encoding.build_characters_encoding(data_output)\n",
    "\n",
    "print('English character dict size:', input_dict_size)\n",
    "print('Katakana character dict size:', output_dict_size)\n",
    "\n",
    "encoded_training_input = encoding.transform(\n",
    "    input_encoding, training_input, vector_size=INPUT_LENGTH)\n",
    "encoded_training_output = encoding.transform(\n",
    "    output_encoding, training_output, vector_size=OUTPUT_LENGTH)\n",
    "\n",
    "print('encoded_training_input', encoded_training_input.shape)\n",
    "print('encoded_training_output', encoded_training_output.shape)\n",
    "\n",
    "encoded_validation_input = encoding.transform(\n",
    "    input_encoding, validation_input, vector_size=INPUT_LENGTH)\n",
    "encoded_validation_output = encoding.transform(\n",
    "    output_encoding, validation_output, vector_size=OUTPUT_LENGTH)\n",
    "\n",
    "print('encoded_validation_input', encoded_validation_input.shape)\n",
    "print('encoded_validation_output', encoded_validation_output.shape)"
   ]
  },
  {
   "cell_type": "markdown",
   "metadata": {},
   "source": [
    "# Sequence-to-Sequence in Keras"
   ]
  },
  {
   "cell_type": "code",
   "execution_count": 24,
   "metadata": {
    "collapsed": true
   },
   "outputs": [],
   "source": [
    "encoder_input = Input(shape=(INPUT_LENGTH,))\n",
    "decoder_input = Input(shape=(OUTPUT_LENGTH,))"
   ]
  },
  {
   "cell_type": "markdown",
   "metadata": {},
   "source": [
    "### Encoder / Decoder"
   ]
  },
  {
   "cell_type": "code",
   "execution_count": 25,
   "metadata": {},
   "outputs": [
    {
     "name": "stdout",
     "output_type": "stream",
     "text": [
      "encoder Tensor(\"lstm_5/transpose_2:0\", shape=(?, 20, 64), dtype=float32)\n",
      "encoder_last Tensor(\"strided_slice_2:0\", shape=(?, 64), dtype=float32)\n",
      "decoder Tensor(\"lstm_6/transpose_2:0\", shape=(?, 20, 64), dtype=float32)\n"
     ]
    }
   ],
   "source": [
    "from keras.layers import SimpleRNN\n",
    "\n",
    "encoder = Embedding(input_dict_size, 64, input_length=INPUT_LENGTH, mask_zero=True)(encoder_input)\n",
    "encoder = LSTM(64, return_sequences=True, unroll=True)(encoder)\n",
    "encoder_last = encoder[:,-1,:]\n",
    "\n",
    "print('encoder', encoder)\n",
    "print('encoder_last', encoder_last)\n",
    "\n",
    "decoder = Embedding(output_dict_size, 64, input_length=OUTPUT_LENGTH, mask_zero=True)(decoder_input)\n",
    "decoder = LSTM(64, return_sequences=True, unroll=True)(decoder, initial_state=[encoder_last, encoder_last])\n",
    "\n",
    "print('decoder', decoder)"
   ]
  },
  {
   "cell_type": "markdown",
   "metadata": {},
   "source": [
    "### Attention Mechanism\n",
    "\n",
    "Reference: \n",
    "[Effective Approaches to Attention-based Neural Machine Translation](https://arxiv.org/pdf/1508.04025.pdf)'s \n",
    "**Global Attention** with **Dot**-based scoring function (Section 3, 3.1)\n"
   ]
  },
  {
   "cell_type": "code",
   "execution_count": 26,
   "metadata": {},
   "outputs": [
    {
     "name": "stdout",
     "output_type": "stream",
     "text": [
      "attention Tensor(\"activation_3/div:0\", shape=(?, 20, 20), dtype=float32)\n",
      "context Tensor(\"dot_6/MatMul:0\", shape=(?, 20, 64), dtype=float32)\n",
      "decoder_combined_context Tensor(\"time_distributed_5/Reshape_1:0\", shape=(?, 20, 64), dtype=float32)\n",
      "decoder_output Tensor(\"time_distributed_6/Reshape_1:0\", shape=(?, 20, 89), dtype=float32)\n"
     ]
    }
   ],
   "source": [
    "from keras.layers import Activation, dot, concatenate\n",
    "\n",
    "scores = dot([decoder, encoder], axes=[2, 2])\n",
    "attention = Activation('softmax')(scores)\n",
    "print('attention', attention)\n",
    "\n",
    "context = dot([attention, encoder], axes=[2,1])\n",
    "print('context', context)\n",
    "\n",
    "#\n",
    "decoder_combined_context = concatenate([context, decoder])\n",
    "decoder_combined_context = TimeDistributed(Dense(64, activation=\"linear\"))(decoder_combined_context)\n",
    "print('decoder_combined_context', decoder_combined_context)\n",
    "\n",
    "decoder_output = TimeDistributed(Dense(output_dict_size, activation=\"softmax\"))(decoder_combined_context)\n",
    "print('decoder_output', decoder_output)\n"
   ]
  },
  {
   "cell_type": "code",
   "execution_count": 27,
   "metadata": {
    "collapsed": true
   },
   "outputs": [],
   "source": [
    "model = Model(inputs=[encoder_input, decoder_input], outputs=[decoder_output])\n",
    "model.compile(optimizer='adam', loss='binary_crossentropy')"
   ]
  },
  {
   "cell_type": "markdown",
   "metadata": {},
   "source": [
    "## Training the model"
   ]
  },
  {
   "cell_type": "code",
   "execution_count": 28,
   "metadata": {
    "collapsed": true
   },
   "outputs": [],
   "source": [
    "training_encoder_input = encoded_training_input\n",
    "training_decoder_input = np.zeros_like(encoded_training_output)\n",
    "training_decoder_input[:, 1:] = encoded_training_output[:,:-1]\n",
    "training_decoder_input[:, 0] = encoding.CHAR_CODE_START\n",
    "training_decoder_output = np.eye(output_dict_size)[encoded_training_output.astype('int')]\n",
    "\n",
    "validation_encoder_input = encoded_validation_input\n",
    "validation_decoder_input = np.zeros_like(encoded_validation_output)\n",
    "validation_decoder_input[:, 1:] = encoded_validation_output[:,:-1]\n",
    "validation_decoder_input[:, 0] = encoding.CHAR_CODE_START\n",
    "validation_decoder_output = np.eye(output_dict_size)[encoded_validation_output.astype('int')]"
   ]
  },
  {
   "cell_type": "code",
   "execution_count": 29,
   "metadata": {},
   "outputs": [
    {
     "name": "stdout",
     "output_type": "stream",
     "text": [
      "Train on 64356 samples, validate on 10726 samples\n",
      "Epoch 1/30\n",
      "90s - loss: 0.0456 - val_loss: 0.0385\n",
      "Epoch 2/30\n",
      "85s - loss: 0.0307 - val_loss: 0.0231\n",
      "Epoch 3/30\n",
      "84s - loss: 0.0204 - val_loss: 0.0186\n",
      "Epoch 4/30\n",
      "89s - loss: 0.0178 - val_loss: 0.0171\n",
      "Epoch 5/30\n",
      "85s - loss: 0.0165 - val_loss: 0.0162\n",
      "Epoch 6/30\n",
      "89s - loss: 0.0156 - val_loss: 0.0154\n",
      "Epoch 7/30\n",
      "95s - loss: 0.0149 - val_loss: 0.0151\n",
      "Epoch 8/30\n",
      "93s - loss: 0.0144 - val_loss: 0.0145\n",
      "Epoch 9/30\n",
      "96s - loss: 0.0140 - val_loss: 0.0141\n",
      "Epoch 10/30\n",
      "98s - loss: 0.0136 - val_loss: 0.0138\n",
      "Epoch 11/30\n",
      "97s - loss: 0.0133 - val_loss: 0.0136\n",
      "Epoch 12/30\n",
      "97s - loss: 0.0131 - val_loss: 0.0134\n",
      "Epoch 13/30\n",
      "98s - loss: 0.0129 - val_loss: 0.0134\n",
      "Epoch 14/30\n",
      "97s - loss: 0.0127 - val_loss: 0.0132\n",
      "Epoch 15/30\n",
      "99s - loss: 0.0125 - val_loss: 0.0130\n",
      "Epoch 16/30\n",
      "94s - loss: 0.0123 - val_loss: 0.0130\n",
      "Epoch 17/30\n",
      "93s - loss: 0.0122 - val_loss: 0.0129\n",
      "Epoch 18/30\n",
      "93s - loss: 0.0121 - val_loss: 0.0127\n",
      "Epoch 19/30\n",
      "95s - loss: 0.0119 - val_loss: 0.0127\n",
      "Epoch 20/30\n",
      "95s - loss: 0.0119 - val_loss: 0.0127\n",
      "Epoch 21/30\n",
      "96s - loss: 0.0117 - val_loss: 0.0127\n",
      "Epoch 22/30\n",
      "96s - loss: 0.0116 - val_loss: 0.0126\n",
      "Epoch 23/30\n",
      "95s - loss: 0.0116 - val_loss: 0.0125\n",
      "Epoch 24/30\n",
      "92s - loss: 0.0115 - val_loss: 0.0125\n",
      "Epoch 25/30\n",
      "87s - loss: 0.0114 - val_loss: 0.0124\n",
      "Epoch 26/30\n",
      "87s - loss: 0.0113 - val_loss: 0.0124\n",
      "Epoch 27/30\n",
      "84s - loss: 0.0113 - val_loss: 0.0125\n",
      "Epoch 28/30\n",
      "84s - loss: 0.0112 - val_loss: 0.0123\n",
      "Epoch 29/30\n",
      "86s - loss: 0.0111 - val_loss: 0.0124\n",
      "Epoch 30/30\n",
      "85s - loss: 0.0111 - val_loss: 0.0123\n",
      "Train on 64356 samples, validate on 10726 samples\n",
      "Epoch 1/5\n",
      "85s - loss: 0.0110 - val_loss: 0.0123\n",
      "Epoch 2/5\n",
      "85s - loss: 0.0110 - val_loss: 0.0122\n",
      "Epoch 3/5\n",
      "85s - loss: 0.0109 - val_loss: 0.0122\n",
      "Epoch 4/5\n",
      "85s - loss: 0.0109 - val_loss: 0.0122\n",
      "Epoch 5/5\n",
      "85s - loss: 0.0108 - val_loss: 0.0122\n"
     ]
    },
    {
     "name": "stderr",
     "output_type": "stream",
     "text": [
      "/usr/local/lib/python2.7/dist-packages/keras/engine/topology.py:2337: UserWarning: Layer lstm_6 was passed non-serializable keyword arguments: {'initial_state': [<tf.Tensor 'strided_slice_2:0' shape=(?, 64) dtype=float32>, <tf.Tensor 'strided_slice_2:0' shape=(?, 64) dtype=float32>]}. They will not be included in the serialized model (and thus will be missing at deserialization time).\n",
      "  str(node.arguments) + '. They will not be included '\n"
     ]
    }
   ],
   "source": [
    "if os.path.isfile('model.h5'):\n",
    "    model = load_model('model.h5')\n",
    "else:\n",
    "    model.fit(x=[training_encoder_input, training_decoder_input], y=[training_decoder_output],\n",
    "          validation_data=([validation_encoder_input, validation_decoder_input], [validation_decoder_output]),\n",
    "          verbose=2, batch_size=64, epochs=30)\n",
    "\n",
    "model.fit(x=[training_encoder_input, training_decoder_input], y=[training_decoder_output],\n",
    "          validation_data=([validation_encoder_input, validation_decoder_input], [validation_decoder_output]),\n",
    "          verbose=2, batch_size=64, epochs=5)\n",
    "\n",
    "model.save('model.h5')"
   ]
  },
  {
   "cell_type": "markdown",
   "metadata": {},
   "source": [
    "### Testing the model\n"
   ]
  },
  {
   "cell_type": "code",
   "execution_count": 33,
   "metadata": {},
   "outputs": [
    {
     "name": "stdout",
     "output_type": "stream",
     "text": [
      "James ジェームズ\n",
      "John ジョン\n",
      "Robert ロバート\n",
      "Mary マリー\n",
      "Patricia パトリシア\n",
      "Linda リンダ\n"
     ]
    }
   ],
   "source": [
    "def generate(text):\n",
    "    encoder_input = encoding.transform(input_encoding, [text.lower()], 20)\n",
    "    decoder_input = np.zeros(shape=(len(encoder_input), OUTPUT_LENGTH))\n",
    "    decoder_input[:,0] = encoding.CHAR_CODE_START\n",
    "    for i in range(1, OUTPUT_LENGTH):\n",
    "        output = model.predict([encoder_input, decoder_input]).argmax(axis=2)\n",
    "        decoder_input[:,i] = output[:,i]\n",
    "    return decoder_input[:,1:]\n",
    "\n",
    "def decode(decoding, sequence):\n",
    "    text = ''\n",
    "    for i in sequence:\n",
    "        if i == 0:\n",
    "            break\n",
    "        text += output_decoding[i]\n",
    "    return text\n",
    "\n",
    "def to_katakana(text):\n",
    "    decoder_output = generate(text)\n",
    "    return decode(output_decoding, decoder_output[0])\n",
    "\n",
    "\n",
    "common_american_names = ['James', 'John', 'Robert', 'Mary', 'Patricia', 'Linda']\n",
    "for name in common_american_names:\n",
    "    print(name, to_katakana(name))"
   ]
  },
  {
   "cell_type": "code",
   "execution_count": 35,
   "metadata": {},
   "outputs": [
    {
     "name": "stdout",
     "output_type": "stream",
     "text": [
      "ペーター\n"
     ]
    }
   ],
   "source": [
    " print(to_katakana('Peter'))"
   ]
  },
  {
   "cell_type": "code",
   "execution_count": 159,
   "metadata": {},
   "outputs": [
    {
     "name": "stdout",
     "output_type": "stream",
     "text": [
      "バナーナ\n"
     ]
    }
   ],
   "source": [
    "print(to_katakana('Banana'))"
   ]
  },
  {
   "cell_type": "code",
   "execution_count": 190,
   "metadata": {},
   "outputs": [
    {
     "name": "stdout",
     "output_type": "stream",
     "text": [
      "[<tf.Tensor 'input_5:0' shape=(?, 20) dtype=float32>, <tf.Tensor 'input_6:0' shape=(?, 20) dtype=float32>]\n",
      "<keras.layers.core.Activation object at 0x7f04d948e610>\n",
      "(20, 20)\n"
     ]
    }
   ],
   "source": [
    "print(model.inputs)\n",
    "print(model.layers[7])\n",
    "\n",
    "attention_layer = model.layers[7]\n",
    "attention_model = Model(inputs=model.inputs, outputs=[attention_layer.output])\n",
    "\n",
    "\n",
    "testing_input_word = training_input[199]\n",
    "testing_output_word = training_output[199]\n",
    "\n",
    "\n",
    "testing_encoder_input = encoding.transform(input_encoding, [testing_input_word.lower()], INPUT_LENGTH)\n",
    "testing_decoder_input = np.zeros_like(encoded_training_output)\n",
    "testing_decoder_input[:, 1:] = encoding.transform(output_encoding, [testing_output_word.lower()], OUTPUT_LENGTH -1)\n",
    "testing_decoder_input[:, 0] = encoding.CHAR_CODE_START\n",
    "\n",
    "attention_density = attention_model.predict([\n",
    "    testing_encoder_input,\n",
    "    testing_decoder_input,\n",
    "])[0]\n",
    "\n",
    "print(attention_density.shape)\n",
    "\n",
    "attention_density = attention_density[:len(testing_output_word)+2, :len(testing_input_word)+2]"
   ]
  },
  {
   "cell_type": "code",
   "execution_count": 191,
   "metadata": {},
   "outputs": [
    {
     "data": {
      "text/plain": [
       "<matplotlib.figure.Figure at 0x7f04c43ae210>"
      ]
     },
     "metadata": {},
     "output_type": "display_data"
    },
    {
     "data": {
      "image/png": "[encoded data removed]",
      "text/plain": [
       "<matplotlib.figure.Figure at 0x7f04c43ae3d0>"
      ]
     },
     "metadata": {},
     "output_type": "display_data"
    }
   ],
   "source": [
    "import matplotlib.pyplot as plt\n",
    "import seaborn\n",
    "\n",
    "plt.clf()\n",
    "plt.figure(figsize=(10,5))\n",
    "seaborn.set(font='TakaoPGothic')\n",
    "ax = seaborn.heatmap(attention_density, \n",
    "                xticklabels=[w for w in testing_input_word],\n",
    "                yticklabels=[w for w in testing_output_word])\n",
    "\n",
    "ax.invert_yaxis()\n",
    "plt.show()"
   ]
  },
  {
   "cell_type": "code",
   "execution_count": null,
   "metadata": {},
   "outputs": [],
   "source": []
  },
  {
   "cell_type": "code",
   "execution_count": null,
   "metadata": {},
   "outputs": [],
   "source": []
  },
  {
   "cell_type": "code",
   "execution_count": null,
   "metadata": {},
   "outputs": [],
   "source": []
  },
  {
   "cell_type": "code",
   "execution_count": null,
   "metadata": {
    "collapsed": true
   },
   "outputs": [],
   "source": []
  }
 ],
 "metadata": {
  "kernelspec": {
   "display_name": "Python 2",
   "language": "python",
   "name": "python2"
  },
  "language_info": {
   "codemirror_mode": {
    "name": "ipython",
    "version": 2
   },
   "file_extension": ".py",
   "mimetype": "text/x-python",
   "name": "python",
   "nbconvert_exporter": "python",
   "pygments_lexer": "ipython2",
   "version": "2.7.6"
  }
 },
 "nbformat": 4,
 "nbformat_minor": 2
}
